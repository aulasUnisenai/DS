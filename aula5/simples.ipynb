{
  "nbformat": 4,
  "nbformat_minor": 0,
  "metadata": {
    "colab": {
      "provenance": []
    },
    "kernelspec": {
      "name": "python3",
      "display_name": "Python 3"
    },
    "language_info": {
      "name": "python"
    }
  },
  "cells": [
    {
      "cell_type": "markdown",
      "source": [
        "# Bibliotecas"
      ],
      "metadata": {
        "id": "WbyYrFU18VWI"
      }
    },
    {
      "cell_type": "code",
      "execution_count": null,
      "metadata": {
        "id": "X0qPZwoC65SF"
      },
      "outputs": [],
      "source": [
        "# Manipulação de dados\n",
        "import pandas as pd\n",
        "import numpy as np\n",
        "# Visualização de dados\n",
        "import plotly.express as ex\n",
        "import plotly.graph_objects as go\n",
        "# Algoritmo\n",
        "from sklearn.linear_model import LinearRegression\n",
        "# Pré-processamento\n",
        "from sklearn.model_selection import train_test_split\n",
        "# Métricas\n",
        "from sklearn.metrics import mean_squared_error, r2_score"
      ]
    },
    {
      "cell_type": "markdown",
      "source": [
        "# Dados"
      ],
      "metadata": {
        "id": "43TtP9HO8YNB"
      }
    },
    {
      "cell_type": "code",
      "source": [
        "# Carregar a base\n",
        "df = pd.read_csv('/content/notas.csv')\n",
        "df.head(5)"
      ],
      "metadata": {
        "id": "-h7tXhjd7M7X"
      },
      "execution_count": null,
      "outputs": []
    },
    {
      "cell_type": "code",
      "source": [
        "# Renomear colunas\n",
        "df.rename(columns={'Hours': 'horas',\n",
        "                   'Scores': 'nota'}, inplace=True)"
      ],
      "metadata": {
        "id": "hvtZ6Kc08DPv"
      },
      "execution_count": null,
      "outputs": []
    },
    {
      "cell_type": "code",
      "source": [
        "# Verificar informações\n",
        "df.info()"
      ],
      "metadata": {
        "id": "2N5SAzRO7TWX"
      },
      "execution_count": null,
      "outputs": []
    },
    {
      "cell_type": "code",
      "source": [
        "# Verificar NaN\n",
        "df.isna().sum()"
      ],
      "metadata": {
        "id": "XRX-lMoJ7V2Y"
      },
      "execution_count": null,
      "outputs": []
    },
    {
      "cell_type": "markdown",
      "source": [
        "# EDA"
      ],
      "metadata": {
        "id": "vG0R6Qqv8j0u"
      }
    },
    {
      "cell_type": "code",
      "source": [
        "# Estatísticas descritivas\n",
        "df.describe().T.round(2)"
      ],
      "metadata": {
        "id": "DujfUq7R7Z8m"
      },
      "execution_count": null,
      "outputs": []
    },
    {
      "cell_type": "code",
      "source": [
        "# Correlação\n",
        "corr = df.corr(numeric_only=True)\n",
        "corr.style.background_gradient()"
      ],
      "metadata": {
        "id": "KNuOZxpU8pnG"
      },
      "execution_count": null,
      "outputs": []
    },
    {
      "cell_type": "code",
      "source": [
        "# Gráfico de dispersão\n",
        "fig= ex.scatter(data_frame=df,\n",
        "               x=\"horas\",\n",
        "               y=\"nota\",\n",
        "               size=\"horas\",\n",
        "               trendline='ols',\n",
        "               template = 'plotly_dark')\n",
        "fig.show()"
      ],
      "metadata": {
        "id": "wHRdkrXSASOI"
      },
      "execution_count": null,
      "outputs": []
    },
    {
      "cell_type": "markdown",
      "source": [
        "# Regressão"
      ],
      "metadata": {
        "id": "6wNWjuyz9IcJ"
      }
    },
    {
      "cell_type": "code",
      "source": [
        "# Criar X e y\n",
        "X = df.iloc[:,:-1].values\n",
        "y = df.iloc[:,-1].values"
      ],
      "metadata": {
        "id": "n17BdQVs9KBg"
      },
      "execution_count": null,
      "outputs": []
    },
    {
      "cell_type": "code",
      "source": [
        "# Dividir em treino e teste\n",
        "X_train,X_test,y_train,y_test=train_test_split(X,y,\n",
        "                                               test_size=0.2,\n",
        "                                               random_state=42)"
      ],
      "metadata": {
        "id": "5oTw118V9WJu"
      },
      "execution_count": null,
      "outputs": []
    },
    {
      "cell_type": "code",
      "source": [
        "# Treinar\n",
        "linear =LinearRegression()\n",
        "linear.fit(X_train,y_train)"
      ],
      "metadata": {
        "id": "A0IcL-r79sy2"
      },
      "execution_count": null,
      "outputs": []
    },
    {
      "cell_type": "code",
      "source": [
        "# Testar\n",
        "y_pred = linear.predict(X_test)"
      ],
      "metadata": {
        "id": "GtwROGyg_AHn"
      },
      "execution_count": null,
      "outputs": []
    },
    {
      "cell_type": "code",
      "source": [
        "# Avaliar o modelo\n",
        "mse = mean_squared_error(y_test,y_pred)\n",
        "r2  = r2_score(y_test,y_pred)\n",
        "print(f\"MSE (Teste): {mse.round(2)}\\n\"\n",
        "      f\"R2 (Teste): {r2.round(2)}\")"
      ],
      "metadata": {
        "id": "ZRfTWjUN_N8e"
      },
      "execution_count": null,
      "outputs": []
    },
    {
      "cell_type": "code",
      "source": [
        "# Criar figura\n",
        "fig = go.Figure()\n",
        "\n",
        "# Adicionar linha de tendência (valores reais)\n",
        "fig.add_trace(go.Scatter(x=y_test,\n",
        "                         y=y_test,\n",
        "                         mode='lines',\n",
        "                         name='Real',\n",
        "                         line=dict(color='blue')))\n",
        "\n",
        "# Adicionar pontos para valores previstos\n",
        "fig.add_trace(go.Scatter(x=y_test,\n",
        "                         y=y_pred,\n",
        "                         mode='markers',\n",
        "                         name='Previsto',\n",
        "                         marker=dict(color='red')))\n",
        "\n",
        "# Layout do gráfico\n",
        "fig.update_layout(title='Comparação entre Valores Reais e Previstos',\n",
        "                  xaxis_title='Valores Reais',\n",
        "                  yaxis_title='Valores Previstos',\n",
        "                  showlegend=True)\n",
        "\n",
        "# Exibir gráfico\n",
        "fig.show()"
      ],
      "metadata": {
        "id": "ukhqcHLyA4A0"
      },
      "execution_count": null,
      "outputs": []
    },
    {
      "cell_type": "markdown",
      "source": [
        "# Equação"
      ],
      "metadata": {
        "id": "JwukNWg2RVLe"
      }
    },
    {
      "cell_type": "code",
      "source": [
        "# Coeficientes e intercepto da regressão\n",
        "coeficientes = linear.coef_\n",
        "intercepto = linear.intercept_"
      ],
      "metadata": {
        "id": "qOU1JSr4Qa9_"
      },
      "execution_count": null,
      "outputs": []
    },
    {
      "cell_type": "code",
      "source": [
        "# Criar equação\n",
        "equacao_regressao = (\n",
        "    f' notas = {intercepto:.2f} + '\n",
        "    f'{coeficientes[0]:.2f} * horas'\n",
        ")\n",
        "\n",
        "equacao_regressao"
      ],
      "metadata": {
        "id": "uqfi9lNjQekm"
      },
      "execution_count": null,
      "outputs": []
    }
  ]
}