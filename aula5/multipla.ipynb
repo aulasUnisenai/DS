{
  "nbformat": 4,
  "nbformat_minor": 0,
  "metadata": {
    "colab": {
      "provenance": []
    },
    "kernelspec": {
      "name": "python3",
      "display_name": "Python 3"
    },
    "language_info": {
      "name": "python"
    }
  },
  "cells": [
    {
      "cell_type": "markdown",
      "source": [
        "# Bibliotecas"
      ],
      "metadata": {
        "id": "WbyYrFU18VWI"
      }
    },
    {
      "cell_type": "code",
      "execution_count": null,
      "metadata": {
        "id": "X0qPZwoC65SF"
      },
      "outputs": [],
      "source": [
        "# Manipulação de dados\n",
        "import pandas as pd\n",
        "import numpy as np\n",
        "# Visualização de dados\n",
        "import plotly.express as ex\n",
        "import plotly.graph_objects as go\n",
        "# Algoritmos\n",
        "from sklearn.linear_model import LinearRegression\n",
        "from sklearn.ensemble import RandomForestRegressor\n",
        "# Pré-processamento\n",
        "from sklearn.model_selection import train_test_split\n",
        "# Métricas\n",
        "from sklearn.metrics import mean_squared_error, r2_score"
      ]
    },
    {
      "cell_type": "markdown",
      "source": [
        "# Dados"
      ],
      "metadata": {
        "id": "43TtP9HO8YNB"
      }
    },
    {
      "cell_type": "code",
      "source": [
        "# Carregar a base\n",
        "df = pd.read_csv('/content/concreto.csv')\n",
        "df.head(5)"
      ],
      "metadata": {
        "id": "-h7tXhjd7M7X"
      },
      "execution_count": null,
      "outputs": []
    },
    {
      "cell_type": "code",
      "source": [
        "# Verificar informações\n",
        "df.info()"
      ],
      "metadata": {
        "id": "2N5SAzRO7TWX"
      },
      "execution_count": null,
      "outputs": []
    },
    {
      "cell_type": "code",
      "source": [
        "# Verificar NaN\n",
        "df.isna().sum()"
      ],
      "metadata": {
        "id": "XRX-lMoJ7V2Y"
      },
      "execution_count": null,
      "outputs": []
    },
    {
      "cell_type": "markdown",
      "source": [
        "# EDA"
      ],
      "metadata": {
        "id": "vG0R6Qqv8j0u"
      }
    },
    {
      "cell_type": "code",
      "source": [
        "# Estatísticas descritivas\n",
        "df.describe().T.round(2)"
      ],
      "metadata": {
        "id": "DujfUq7R7Z8m"
      },
      "execution_count": null,
      "outputs": []
    },
    {
      "cell_type": "code",
      "source": [
        "# Correlação\n",
        "corr = df.corr(numeric_only=True)\n",
        "corr.style.background_gradient()"
      ],
      "metadata": {
        "id": "KNuOZxpU8pnG"
      },
      "execution_count": null,
      "outputs": []
    },
    {
      "cell_type": "code",
      "source": [
        "# Função para treinar\n",
        "def treinar_avaliar(X_train, y_train, X_test, y_test):\n",
        "    regressores = {\n",
        "        'Regressão Linear': LinearRegression(),\n",
        "        'Random Forest': RandomForestRegressor(random_state=42)\n",
        "    }\n",
        "\n",
        "    resultados = []\n",
        "\n",
        "    for nome, regressor in regressores.items():\n",
        "        regressor.fit(X_train, y_train)\n",
        "        y_pred = regressor.predict(X_test)\n",
        "        mse = mean_squared_error(y_test,y_pred)\n",
        "        r2 = r2_score(y_test, y_pred)\n",
        "        resultados.append({'Modelo': nome,\n",
        "                           'Erro Quadrático Médio': mse.round(2),\n",
        "                           'R²': (r2*100).round(2)})\n",
        "\n",
        "    return pd.DataFrame(resultados)"
      ],
      "metadata": {
        "id": "KzqFtxx1vzJ9"
      },
      "execution_count": null,
      "outputs": []
    },
    {
      "cell_type": "markdown",
      "source": [
        "# Regressão"
      ],
      "metadata": {
        "id": "6wNWjuyz9IcJ"
      }
    },
    {
      "cell_type": "code",
      "source": [
        "# Criar X e y\n",
        "X = df.iloc[:,:-1].values\n",
        "y = df.iloc[:,-1].values"
      ],
      "metadata": {
        "id": "n17BdQVs9KBg"
      },
      "execution_count": null,
      "outputs": []
    },
    {
      "cell_type": "code",
      "source": [
        "# Dividir em treino e teste\n",
        "X_train,X_test,y_train,y_test=train_test_split(X,y,\n",
        "                                               test_size=0.2,\n",
        "                                               random_state=42)"
      ],
      "metadata": {
        "id": "5oTw118V9WJu"
      },
      "execution_count": null,
      "outputs": []
    },
    {
      "cell_type": "code",
      "source": [
        "# Treinar\n",
        "resultados = treinar_avaliar(X_train,\n",
        "                             y_train,\n",
        "                             X_test,\n",
        "                             y_test)\n",
        "\n",
        "resultados.sort_values(by='Erro Quadrático Médio')"
      ],
      "metadata": {
        "id": "A0IcL-r79sy2"
      },
      "execution_count": null,
      "outputs": []
    },
    {
      "cell_type": "markdown",
      "source": [
        "# Melhor modelo"
      ],
      "metadata": {
        "id": "HSCFy1OC55BM"
      }
    },
    {
      "cell_type": "code",
      "source": [
        "rf = RandomForestRegressor(random_state = 42)\n",
        "rf.fit(X_train, y_train)"
      ],
      "metadata": {
        "id": "oCJYnWYr08G1"
      },
      "execution_count": null,
      "outputs": []
    },
    {
      "cell_type": "code",
      "source": [
        "# Testar\n",
        "y_pred = rf.predict(X_test)"
      ],
      "metadata": {
        "id": "GtwROGyg_AHn"
      },
      "execution_count": null,
      "outputs": []
    },
    {
      "cell_type": "code",
      "source": [
        "# Avaliar o modelo\n",
        "mse = mean_squared_error(y_test,y_pred)\n",
        "r2  = r2_score(y_test,y_pred)\n",
        "print(f\"Erro Quadrático Médio (Teste): {mse.round(2)}\\n\"\n",
        "      f\"R2 (Teste): {r2.round(2)}\")"
      ],
      "metadata": {
        "id": "ZRfTWjUN_N8e"
      },
      "execution_count": null,
      "outputs": []
    },
    {
      "cell_type": "code",
      "source": [
        "# Criar figura\n",
        "fig = go.Figure()\n",
        "\n",
        "# Adicionar linha de tendência (valores reais)\n",
        "fig.add_trace(go.Scatter(x=y_test,\n",
        "                         y=y_test,\n",
        "                         mode='lines',\n",
        "                         name='Real',\n",
        "                         line=dict(color='blue')))\n",
        "\n",
        "# Adicionar pontos para valores previstos\n",
        "fig.add_trace(go.Scatter(x=y_test,\n",
        "                         y=y_pred,\n",
        "                         mode='markers',\n",
        "                         name='Previsto',\n",
        "                         marker=dict(color='red')))\n",
        "\n",
        "# Layout do gráfico\n",
        "fig.update_layout(title='Comparação entre Valores Reais e Previstos',\n",
        "                  xaxis_title='Valores Reais',\n",
        "                  yaxis_title='Valores Previstos',\n",
        "                  showlegend=True)\n",
        "\n",
        "# Exibir gráfico\n",
        "fig.show()"
      ],
      "metadata": {
        "id": "ukhqcHLyA4A0"
      },
      "execution_count": null,
      "outputs": []
    },
    {
      "cell_type": "markdown",
      "source": [
        "# Equação"
      ],
      "metadata": {
        "id": "JwukNWg2RVLe"
      }
    },
    {
      "cell_type": "code",
      "source": [
        "# Obter a importância das características\n",
        "importancias = rf.feature_importances_"
      ],
      "metadata": {
        "id": "9k9KStOdxvA1"
      },
      "execution_count": null,
      "outputs": []
    },
    {
      "cell_type": "code",
      "source": [
        "\n",
        "# Montar a equação com as características mais importantes\n",
        "equacao_rf = 'Resistência = '\n",
        "for i in range(len(df.columns[:-1])):\n",
        "    equacao_rf += f'{importancias[i]:.2f} * {df.columns[i]} + '"
      ],
      "metadata": {
        "id": "qOU1JSr4Qa9_"
      },
      "execution_count": null,
      "outputs": []
    },
    {
      "cell_type": "code",
      "source": [
        "# Remover o último sinal de adição\n",
        "equacao_rf = equacao_rf\n",
        "\n",
        "equacao_rf[:-3]"
      ],
      "metadata": {
        "id": "2woRXqDtx0F9"
      },
      "execution_count": null,
      "outputs": []
    },
    {
      "cell_type": "markdown",
      "source": [
        "# Gráfico de Radar"
      ],
      "metadata": {
        "id": "-uj8Eup4x-Ey"
      }
    },
    {
      "cell_type": "code",
      "source": [
        "# Nome das características\n",
        "nomes_caracteristicas = df.columns[:-1]\n",
        "\n",
        "# Criar o gráfico de radar\n",
        "fig = go.Figure()\n",
        "\n",
        "fig.add_trace(go.Scatterpolar(\n",
        "      r=importancias,\n",
        "      theta=nomes_caracteristicas,\n",
        "      fill='toself',\n",
        "      name='Importância das Características'\n",
        "))\n",
        "\n",
        "fig.update_layout(\n",
        "  polar=dict(\n",
        "    radialaxis=dict(\n",
        "      visible=True,\n",
        "      range=[0, max(importancias)]\n",
        "    )),\n",
        "  showlegend=True\n",
        ")\n",
        "\n",
        "fig.show()"
      ],
      "metadata": {
        "id": "lZ8g30sFxahG"
      },
      "execution_count": null,
      "outputs": []
    }
  ]
}