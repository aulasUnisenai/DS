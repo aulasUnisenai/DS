{
  "nbformat": 4,
  "nbformat_minor": 0,
  "metadata": {
    "colab": {
      "provenance": [],
      "collapsed_sections": [
        "X4yeZk164LV0",
        "a3rWyz7-FqOt"
      ]
    },
    "kernelspec": {
      "name": "python3",
      "display_name": "Python 3"
    },
    "language_info": {
      "name": "python"
    }
  },
  "cells": [
    {
      "cell_type": "markdown",
      "source": [
        "# Bibliotecas"
      ],
      "metadata": {
        "id": "X4yeZk164LV0"
      }
    },
    {
      "cell_type": "code",
      "source": [
        "import pandas as pd\n",
        "import plotly.express as px\n",
        "from sklearn.preprocessing import LabelEncoder\n",
        "from sklearn.metrics import (\n",
        "    accuracy_score,\n",
        "    confusion_matrix,\n",
        "    classification_report\n",
        ")\n",
        "from sklearn.model_selection import train_test_split\n",
        "from sklearn.tree import DecisionTreeClassifier\n",
        "from sklearn.ensemble import RandomForestClassifier"
      ],
      "metadata": {
        "id": "U_V0jp694OWw"
      },
      "execution_count": null,
      "outputs": []
    },
    {
      "cell_type": "markdown",
      "source": [
        "# Dados"
      ],
      "metadata": {
        "id": "a3rWyz7-FqOt"
      }
    },
    {
      "cell_type": "code",
      "source": [
        "df = pd.read_excel('/content/renal.xlsx',\n",
        "                   sheet_name='dados')\n",
        "df.head(5)"
      ],
      "metadata": {
        "id": "zoycLBdGFGol"
      },
      "execution_count": null,
      "outputs": []
    },
    {
      "cell_type": "code",
      "source": [
        "# Informações\n",
        "df.info()"
      ],
      "metadata": {
        "id": "vAOC80ikFQjV"
      },
      "execution_count": null,
      "outputs": []
    },
    {
      "cell_type": "code",
      "source": [
        "# Verificar NaN\n",
        "df.isna().sum().sort_values(ascending = False)"
      ],
      "metadata": {
        "id": "pIcojIOBFUyO"
      },
      "execution_count": null,
      "outputs": []
    },
    {
      "cell_type": "code",
      "source": [
        "# Remover id\n",
        "df.drop('id', axis = 1, inplace = True)"
      ],
      "metadata": {
        "id": "L8gCMCMxQ8w2"
      },
      "execution_count": null,
      "outputs": []
    },
    {
      "cell_type": "code",
      "source": [
        "# Alterar o tipo do dado\n",
        "cols = ['vcc','cgb','cgv']\n",
        "\n",
        "for col in cols:\n",
        "\n",
        "   df[col] = pd.to_numeric(df[col],\n",
        "                                errors='coerce')"
      ],
      "metadata": {
        "id": "EiFL7bD9Rhjo"
      },
      "execution_count": null,
      "outputs": []
    },
    {
      "cell_type": "code",
      "source": [
        "# Selecionar colunas numéricas\n",
        "df_numericas = df.select_dtypes(include=['int', 'float']).columns\n",
        "df_numericas"
      ],
      "metadata": {
        "id": "QQ1xRxBhVuaO"
      },
      "execution_count": null,
      "outputs": []
    },
    {
      "cell_type": "markdown",
      "source": [
        "# EDA"
      ],
      "metadata": {
        "id": "u0F5DJOUFozV"
      }
    },
    {
      "cell_type": "code",
      "source": [
        "# Estatísticas descritivas\n",
        "df.describe().T.round(2)"
      ],
      "metadata": {
        "id": "XxBFtiWPRbuv"
      },
      "execution_count": null,
      "outputs": []
    },
    {
      "cell_type": "code",
      "source": [
        "# Substituir NaN por mediana\n",
        "df.fillna(df.median(numeric_only = True), inplace = True)\n",
        "\n",
        "df.isna().sum()"
      ],
      "metadata": {
        "id": "W82kiSwHdj1e"
      },
      "execution_count": null,
      "outputs": []
    },
    {
      "cell_type": "code",
      "source": [
        "# Função para os gráficos\n",
        "def plot(col1, col2=None):\n",
        "    if col2 is None:\n",
        "        fig = px.histogram(df, x=col1, marginal=\"box\",\n",
        "                           template='plotly_dark')\n",
        "    else:\n",
        "        fig = px.scatter(df, x=col1, y=col2,\n",
        "                         color=\"resultado\",\n",
        "                         template='plotly_dark')\n",
        "    fig.show()"
      ],
      "metadata": {
        "id": "Iyny_rS-kNZm"
      },
      "execution_count": null,
      "outputs": []
    },
    {
      "cell_type": "code",
      "source": [
        "# Histograma\n",
        "for col in df_numericas:\n",
        "    plot(col)"
      ],
      "metadata": {
        "id": "VCtrNJ1HiIzF"
      },
      "execution_count": null,
      "outputs": []
    },
    {
      "cell_type": "code",
      "source": [
        "# Dispersão\n",
        "for i in range(len(df_numericas)):\n",
        "    for j in range(i+1, len(df_numericas)):\n",
        "        plot(df_numericas[i], df_numericas[j])"
      ],
      "metadata": {
        "id": "Qvco1JRNgkZi"
      },
      "execution_count": null,
      "outputs": []
    },
    {
      "cell_type": "markdown",
      "source": [
        "# Classificação"
      ],
      "metadata": {
        "id": "dmamrFibq3VY"
      }
    },
    {
      "cell_type": "code",
      "source": [
        "# Alterar a variável alvo\n",
        "le = LabelEncoder()\n",
        "df['resultado'] = le.fit_transform(df['resultado'])"
      ],
      "metadata": {
        "id": "2T5q9xjTlCKA"
      },
      "execution_count": null,
      "outputs": []
    },
    {
      "cell_type": "code",
      "source": [
        "# Criar X e y\n",
        "X = df.drop('resultado', axis = 1)\n",
        "y = df['resultado']"
      ],
      "metadata": {
        "id": "EI0aNAAxlgoP"
      },
      "execution_count": null,
      "outputs": []
    },
    {
      "cell_type": "code",
      "source": [
        "# Separar em treino e teste\n",
        "X_train, X_test, y_train, y_test = train_test_split(X, y,\n",
        "                                                    test_size = 0.30,\n",
        "                                                    random_state =42)"
      ],
      "metadata": {
        "id": "mDLC35Vkly2o"
      },
      "execution_count": null,
      "outputs": []
    },
    {
      "cell_type": "code",
      "source": [
        "# Função para criar a matriz\n",
        "def plot_confusion_matrix(conf_matrix):\n",
        "    fig = px.imshow(conf_matrix,\n",
        "                    labels=dict(x=\"Classe Prevista\",\n",
        "                                y=\"Classe Real\"),\n",
        "                    x=['Não (Previsto)', 'Sim (Previsto)'],\n",
        "                    y=['Não (Real)', 'Sim (Real)'],\n",
        "                    color_continuous_scale='blues',\n",
        "                    text_auto=True\n",
        "                    )\n",
        "    fig.update_layout(title='Matriz de Confusão')\n",
        "    fig.show()"
      ],
      "metadata": {
        "id": "MDOZrHx_Nzhi"
      },
      "execution_count": null,
      "outputs": []
    },
    {
      "cell_type": "markdown",
      "source": [
        "## C4.5"
      ],
      "metadata": {
        "id": "BQUxHKmWNrEp"
      }
    },
    {
      "cell_type": "code",
      "source": [
        "# Treinar\n",
        "c45 = DecisionTreeClassifier(criterion='entropy')\n",
        "c45.fit(X_train, y_train)"
      ],
      "metadata": {
        "id": "K-MlOfiKl-0f"
      },
      "execution_count": null,
      "outputs": []
    },
    {
      "cell_type": "code",
      "source": [
        "# Avaliar\n",
        "c45_acc = accuracy_score(y_test, c45.predict(X_test))\n",
        "\n",
        "print(f\"Acurácia (treino): {accuracy_score(y_train, c45.predict(X_train))}\")\n",
        "print(f\"Acurácia (teste): {c45_acc:.2f}\")"
      ],
      "metadata": {
        "id": "q0H5NCznN4wg"
      },
      "execution_count": null,
      "outputs": []
    },
    {
      "cell_type": "code",
      "source": [
        "# Matriz de confusão\n",
        "c45_matriz = confusion_matrix(y_test, c45.predict(X_test))\n",
        "\n",
        "# Mostrar matriz\n",
        "plot_confusion_matrix(c45_matriz)"
      ],
      "metadata": {
        "id": "GCP5twt5sKVF"
      },
      "execution_count": null,
      "outputs": []
    },
    {
      "cell_type": "code",
      "source": [
        "# Relatório de classificação\n",
        "print(classification_report(y_test, c45.predict(X_test)))"
      ],
      "metadata": {
        "id": "VQdOml-Jwn2h"
      },
      "execution_count": null,
      "outputs": []
    },
    {
      "cell_type": "markdown",
      "source": [
        "## CART"
      ],
      "metadata": {
        "id": "Yi0DICpQOAb3"
      }
    },
    {
      "cell_type": "code",
      "source": [
        "# Treinar\n",
        "cart = DecisionTreeClassifier(criterion='gini')\n",
        "cart.fit(X_train, y_train)"
      ],
      "metadata": {
        "id": "snW5A3FyNnhg"
      },
      "execution_count": null,
      "outputs": []
    },
    {
      "cell_type": "code",
      "source": [
        "# Avaliar\n",
        "cart_acc = accuracy_score(y_test, cart.predict(X_test))\n",
        "\n",
        "print(f\"Acurácia (treino): {accuracy_score(y_train, cart.predict(X_train))}\")\n",
        "print(f\"Acurácia (teste): {cart_acc:.2f}\")"
      ],
      "metadata": {
        "id": "kzIYaVp3OPYo"
      },
      "execution_count": null,
      "outputs": []
    },
    {
      "cell_type": "code",
      "source": [
        "# Matriz de confusão\n",
        "cart_matriz = confusion_matrix(y_test, cart.predict(X_test))\n",
        "\n",
        "# Mostrar matriz\n",
        "plot_confusion_matrix(cart_matriz)"
      ],
      "metadata": {
        "id": "xpE9_HF6OXO3"
      },
      "execution_count": null,
      "outputs": []
    },
    {
      "cell_type": "code",
      "source": [
        "# Relatório de classificação\n",
        "print(classification_report(y_test, cart.predict(X_test)))"
      ],
      "metadata": {
        "id": "yUnfPRloOyFo"
      },
      "execution_count": null,
      "outputs": []
    },
    {
      "cell_type": "markdown",
      "source": [
        "## Random Forest"
      ],
      "metadata": {
        "id": "AqYBzHO2O1l3"
      }
    },
    {
      "cell_type": "code",
      "source": [
        "# Treinar\n",
        "rf = RandomForestClassifier()\n",
        "rf.fit(X_train, y_train)"
      ],
      "metadata": {
        "id": "i_QvbKetmFKB"
      },
      "execution_count": null,
      "outputs": []
    },
    {
      "cell_type": "code",
      "source": [
        "# Avaliar\n",
        "rf_acc = accuracy_score(y_test, rf.predict(X_test))\n",
        "\n",
        "print(f\"Acurácia (treino): {accuracy_score(y_train, rf.predict(X_train))}\")\n",
        "print(f\"Acurácia (teste): {rf_acc:.2f}\")"
      ],
      "metadata": {
        "id": "g09vk8aJO63X"
      },
      "execution_count": null,
      "outputs": []
    },
    {
      "cell_type": "code",
      "source": [
        "# Matriz de confusão\n",
        "rf_matriz = confusion_matrix(y_test, rf.predict(X_test))\n",
        "\n",
        "# Mostrar matriz\n",
        "plot_confusion_matrix(rf_matriz)"
      ],
      "metadata": {
        "id": "g-n07QSNzc8q"
      },
      "execution_count": null,
      "outputs": []
    },
    {
      "cell_type": "code",
      "source": [
        "# Relatório de classificação\n",
        "print(classification_report(y_test, rf.predict(X_test)))"
      ],
      "metadata": {
        "id": "B56em9N4zm7Z"
      },
      "execution_count": null,
      "outputs": []
    },
    {
      "cell_type": "markdown",
      "source": [
        "# Comparar modelos"
      ],
      "metadata": {
        "id": "mKz4FrbuPQG1"
      }
    },
    {
      "cell_type": "code",
      "source": [
        "# Criar df para armazenar os resultados\n",
        "models = pd.DataFrame({\n",
        "    'Modelo' : [ 'c4.5', 'CART', 'RF'],\n",
        "    'Acurácia' : [c45_acc, cart_acc, rf_acc]\n",
        "})\n",
        "\n",
        "models = models.sort_values(by = 'Acurácia', ascending = True)"
      ],
      "metadata": {
        "id": "2OFDOIjn0X3x"
      },
      "execution_count": null,
      "outputs": []
    },
    {
      "cell_type": "code",
      "source": [
        "# Criar gráfico de comparação\n",
        "px.bar(data_frame = models, x = 'Acurácia',\n",
        "        y = 'Modelo',\n",
        "        template='plotly_dark',\n",
        "        text_auto=True,\n",
        "        title = 'Comparação')"
      ],
      "metadata": {
        "id": "4m72g_GI0mQ0"
      },
      "execution_count": null,
      "outputs": []
    }
  ]
}