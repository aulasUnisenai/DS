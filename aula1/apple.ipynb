{
  "nbformat": 4,
  "nbformat_minor": 0,
  "metadata": {
    "colab": {
      "provenance": []
    },
    "kernelspec": {
      "name": "python3",
      "display_name": "Python 3"
    },
    "language_info": {
      "name": "python"
    }
  },
  "cells": [
    {
      "cell_type": "markdown",
      "source": [
        "# Base"
      ],
      "metadata": {
        "id": "f9SbBl4Fd137"
      }
    },
    {
      "cell_type": "code",
      "execution_count": null,
      "metadata": {
        "id": "Hv4y2WUAU2Sb"
      },
      "outputs": [],
      "source": [
        "import pandas as pd"
      ]
    },
    {
      "cell_type": "code",
      "source": [
        "# Carregar a base de dados\n",
        "df = pd.read_csv('/content/apple.csv')\n",
        "df.head(5)"
      ],
      "metadata": {
        "id": "yokHnrv5WHY6"
      },
      "execution_count": null,
      "outputs": []
    },
    {
      "cell_type": "code",
      "source": [
        "# Informações sobre a base\n",
        "df.info()"
      ],
      "metadata": {
        "id": "Grx4euALasGO"
      },
      "execution_count": null,
      "outputs": []
    },
    {
      "cell_type": "code",
      "source": [
        "# Alterar o tipo do dado\n",
        "df['acidez'] = pd.to_numeric(df['acidez'], errors='coerce')"
      ],
      "metadata": {
        "id": "qmoqvTsqyelq"
      },
      "execution_count": null,
      "outputs": []
    },
    {
      "cell_type": "code",
      "source": [
        "# Verificar duplicados\n",
        "df.duplicated().sum()"
      ],
      "metadata": {
        "id": "9ppPy7cka6EH"
      },
      "execution_count": null,
      "outputs": []
    },
    {
      "cell_type": "code",
      "source": [
        "# Verificar NA\n",
        "df.isna().sum()"
      ],
      "metadata": {
        "id": "IWVOSuCUcL9-"
      },
      "execution_count": null,
      "outputs": []
    },
    {
      "cell_type": "code",
      "source": [
        "# Remover NA\n",
        "df = df.dropna()\n",
        "df.isna().sum()"
      ],
      "metadata": {
        "id": "pkK8mE9tcfVK"
      },
      "execution_count": null,
      "outputs": []
    },
    {
      "cell_type": "markdown",
      "source": [
        "# EDA"
      ],
      "metadata": {
        "id": "vmSCSR1TdyNT"
      }
    },
    {
      "cell_type": "code",
      "source": [
        "import plotly.express as px\n",
        "import plotly.figure_factory as ff"
      ],
      "metadata": {
        "id": "xdtVsy7Ud4jC"
      },
      "execution_count": null,
      "outputs": []
    },
    {
      "cell_type": "code",
      "source": [
        "# Excluir a coluna 'id'\n",
        "df.drop('id', axis=1, inplace=True)"
      ],
      "metadata": {
        "id": "5Le6upM-d826"
      },
      "execution_count": null,
      "outputs": []
    },
    {
      "cell_type": "code",
      "source": [
        "df.describe().T.round(2)"
      ],
      "metadata": {
        "id": "3jqT1HQgypui"
      },
      "execution_count": null,
      "outputs": []
    },
    {
      "cell_type": "code",
      "source": [
        "# Selecionar colunas numéricas\n",
        "df_numericas = df.select_dtypes(include=['int', 'float']).columns\n",
        "df_numericas"
      ],
      "metadata": {
        "id": "1W5BhI20erF_"
      },
      "execution_count": null,
      "outputs": []
    },
    {
      "cell_type": "code",
      "source": [
        "# Criar histogramas para cada variável numérica\n",
        "for col in df_numericas:\n",
        "    fig = px.histogram(df, x=col, color = df.qualidade)\n",
        "    fig.show()"
      ],
      "metadata": {
        "id": "Qy3DoVZ0eCMS"
      },
      "execution_count": null,
      "outputs": []
    },
    {
      "cell_type": "code",
      "source": [
        "# Correlação\n",
        "corr_matrix = df.corr(numeric_only=True).round(2)\n",
        "fig = ff.create_annotated_heatmap(z=corr_matrix.values,\n",
        "                                  x=list(corr_matrix.columns),\n",
        "                                  y=list(corr_matrix.index),\n",
        "                                  colorscale='Viridis')\n",
        "fig.update_layout(title='Matriz de Correlação')\n",
        "fig.show()"
      ],
      "metadata": {
        "id": "BxpvWSncdbe6"
      },
      "execution_count": null,
      "outputs": []
    },
    {
      "cell_type": "code",
      "source": [
        "# Criar tabela de contagem para \"qualidade\"\n",
        "contagem_qualidade = df['qualidade'].value_counts().reset_index()\n",
        "contagem_qualidade.columns = ['Qualidade', 'Contagem']"
      ],
      "metadata": {
        "id": "UHR7AE9LjBDp"
      },
      "execution_count": null,
      "outputs": []
    },
    {
      "cell_type": "code",
      "source": [
        "# Criar gráfico de barras personalizado\n",
        "fig = px.bar(contagem_qualidade,\n",
        "             x='Qualidade', y='Contagem',\n",
        "             title='Distribuição da Qualidade',\n",
        "             color='Qualidade',\n",
        "             color_discrete_map={'boa': 'blue', 'ruim': 'orange'},\n",
        "             width=700,  # Largura das barras\n",
        "             height=500  # Altura do gráfico\n",
        "            )\n",
        "\n",
        "fig.update_layout(xaxis_title='Qualidade', yaxis_title='Contagem')\n",
        "fig.show()"
      ],
      "metadata": {
        "id": "vtgHk564kAv4"
      },
      "execution_count": null,
      "outputs": []
    },
    {
      "cell_type": "markdown",
      "source": [
        "# Classificação - Simples"
      ],
      "metadata": {
        "id": "o23Hx6WblPSs"
      }
    },
    {
      "cell_type": "code",
      "source": [
        "from sklearn.model_selection import train_test_split\n",
        "from sklearn.metrics import accuracy_score, classification_report, confusion_matrix\n",
        "from sklearn.preprocessing import StandardScaler\n",
        "from sklearn.ensemble import RandomForestClassifier\n",
        "from sklearn.pipeline import Pipeline"
      ],
      "metadata": {
        "id": "wGqUJ8z_lQ4x"
      },
      "execution_count": null,
      "outputs": []
    },
    {
      "cell_type": "code",
      "source": [
        "# Definir as features (X) e a variável alvo (y)\n",
        "X = df.drop(['qualidade'], axis=1)\n",
        "y = df['qualidade']"
      ],
      "metadata": {
        "id": "FuOjf_etmB43"
      },
      "execution_count": null,
      "outputs": []
    },
    {
      "cell_type": "code",
      "source": [
        "# Dividir os dados em conjunto de treino e teste\n",
        "X_train, X_test, y_train, y_test = train_test_split(X, y, test_size=0.2, random_state=42)"
      ],
      "metadata": {
        "id": "FagidVk-mHzv"
      },
      "execution_count": null,
      "outputs": []
    },
    {
      "cell_type": "code",
      "source": [
        "# Criar pipeline\n",
        "pipeline = Pipeline([\n",
        "    ('scaler', StandardScaler()),\n",
        "    ('model', RandomForestClassifier())\n",
        "])"
      ],
      "metadata": {
        "id": "FRZC99U3rKVW"
      },
      "execution_count": null,
      "outputs": []
    },
    {
      "cell_type": "code",
      "source": [
        "# Treinar o modelo no conjunto de treino\n",
        "pipeline.fit(X_train, y_train)"
      ],
      "metadata": {
        "id": "jQTiYMi5mLrX"
      },
      "execution_count": null,
      "outputs": []
    },
    {
      "cell_type": "code",
      "source": [
        "# Realizar previsões no conjunto de teste\n",
        "y_pred = pipeline.predict(X_test)"
      ],
      "metadata": {
        "id": "k8O0ajjkmOH4"
      },
      "execution_count": null,
      "outputs": []
    },
    {
      "cell_type": "code",
      "source": [
        "# Avaliar o desempenho do modelo\n",
        "acuracia = accuracy_score(y_test, y_pred)\n",
        "relatorio_classificacao = classification_report(y_test, y_pred)\n",
        "\n",
        "print('\\nRelatório de Classificação:\\n', relatorio_classificacao)"
      ],
      "metadata": {
        "id": "K-NwH-UYmQSf"
      },
      "execution_count": null,
      "outputs": []
    },
    {
      "cell_type": "code",
      "source": [
        "# Criar a matriz de confusão\n",
        "conf_matrix = confusion_matrix(y_test, y_pred, labels=['boa', 'ruim'])\n",
        "\n",
        "# Criar um heatmap interativo da matriz de confusão\n",
        "fig = ff.create_annotated_heatmap(z=conf_matrix, x=['boa', 'ruim'],\n",
        "                                  y=['boa', 'ruim'],\n",
        "                                  colorscale='Greens')\n",
        "\n",
        "# Adicionar rótulos\n",
        "fig.update_layout(title='Matriz de Confusão',\n",
        "                  xaxis_title='Predito',\n",
        "                  yaxis_title='Real')\n",
        "\n",
        "# Exibir o gráfico\n",
        "fig.show()"
      ],
      "metadata": {
        "id": "6965DgKXsJ_b"
      },
      "execution_count": null,
      "outputs": []
    }
  ]
}