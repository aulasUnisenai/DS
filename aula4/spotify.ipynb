{
  "nbformat": 4,
  "nbformat_minor": 0,
  "metadata": {
    "colab": {
      "provenance": []
    },
    "kernelspec": {
      "name": "python3",
      "display_name": "Python 3"
    },
    "language_info": {
      "name": "python"
    }
  },
  "cells": [
    {
      "cell_type": "markdown",
      "source": [
        "# Bibliotecas"
      ],
      "metadata": {
        "id": "BpRqL73RMenv"
      }
    },
    {
      "cell_type": "code",
      "execution_count": null,
      "metadata": {
        "id": "uRmTFo9_D5ic"
      },
      "outputs": [],
      "source": [
        "# Manipulação de dados\n",
        "import pandas as pd\n",
        "# Visualização\n",
        "import plotly.express as px\n",
        "import plotly.graph_objects as go\n",
        "import plotly.figure_factory as ff\n",
        "from plotly.subplots import make_subplots\n",
        "# Pré-processamento\n",
        "from sklearn.model_selection import train_test_split\n",
        "from sklearn.compose import ColumnTransformer\n",
        "from sklearn.preprocessing import (\n",
        "    LabelEncoder,\n",
        "    StandardScaler,\n",
        "    OneHotEncoder\n",
        ")\n",
        "from sklearn.pipeline import Pipeline\n",
        "from sklearn.metrics import (\n",
        "    accuracy_score,\n",
        "    confusion_matrix,\n",
        "    classification_report,\n",
        "     f1_score\n",
        ")\n",
        "# Algoritmos\n",
        "from sklearn.ensemble import RandomForestClassifier\n",
        "from sklearn.neighbors import KNeighborsClassifier\n",
        "from sklearn.svm import SVC\n",
        "from sklearn.naive_bayes import GaussianNB"
      ]
    },
    {
      "cell_type": "markdown",
      "source": [
        "# Dados"
      ],
      "metadata": {
        "id": "UPtRnP3WMgFe"
      }
    },
    {
      "cell_type": "code",
      "source": [
        "# Carregar os dados\n",
        "df = pd.read_excel('/content/spotify.xlsx')\n",
        "df.head(5)"
      ],
      "metadata": {
        "id": "xw4JhUFOFcI4"
      },
      "execution_count": null,
      "outputs": []
    },
    {
      "cell_type": "code",
      "source": [
        "# Verificar informações\n",
        "df.info()"
      ],
      "metadata": {
        "id": "BnK66kq7Fk5d"
      },
      "execution_count": null,
      "outputs": []
    },
    {
      "cell_type": "code",
      "source": [
        "# Verificar NaN\n",
        "df.isna().sum()"
      ],
      "metadata": {
        "id": "VLH4YfS0FplV"
      },
      "execution_count": null,
      "outputs": []
    },
    {
      "cell_type": "code",
      "source": [
        "# Remover NaN\n",
        "df.dropna(axis = 0, inplace = True)\n",
        "df.isna().sum()"
      ],
      "metadata": {
        "id": "Ba6I11yEF1qO"
      },
      "execution_count": null,
      "outputs": []
    },
    {
      "cell_type": "code",
      "source": [
        "# Alterar tipos\n",
        "cols = ['tom', 'modo', 'tempo_assinatura']\n",
        "\n",
        "df[cols] = df[cols].astype('object')\n",
        "\n",
        "df.info()"
      ],
      "metadata": {
        "id": "cIqV7dBwGaS3"
      },
      "execution_count": null,
      "outputs": []
    },
    {
      "cell_type": "code",
      "source": [
        "# Deletar colunas\n",
        "cols_deletar = [\"artista\", \"album\", \"faixa\", \"faixa_id\"]\n",
        "\n",
        "df.drop(cols_deletar, axis=1, inplace = True)"
      ],
      "metadata": {
        "id": "vzSqdBWVHH2H"
      },
      "execution_count": null,
      "outputs": []
    },
    {
      "cell_type": "code",
      "source": [
        "# Colunas numéricas\n",
        "colunas_numericas = df.select_dtypes(include=['int', 'float']).columns\n",
        "colunas_numericas"
      ],
      "metadata": {
        "id": "m9XYVm7SHof2"
      },
      "execution_count": null,
      "outputs": []
    },
    {
      "cell_type": "code",
      "source": [
        "# Colunas categóricas\n",
        "colunas_categoricas = df.select_dtypes(include=['object']).columns\n",
        "colunas_categoricas"
      ],
      "metadata": {
        "id": "AWQS73htHtj2"
      },
      "execution_count": null,
      "outputs": []
    },
    {
      "cell_type": "markdown",
      "source": [
        "# Funções auxiliares"
      ],
      "metadata": {
        "id": "-K1qdVUlB5ZG"
      }
    },
    {
      "cell_type": "code",
      "source": [
        "# Função para treinar\n",
        "def treinar_avaliar(X_train, y_train, X_test, y_test):\n",
        "    classificadores = {\n",
        "        'Random Forest': RandomForestClassifier(random_state=42),\n",
        "        'Knn': KNeighborsClassifier(),\n",
        "        'SVM': SVC(random_state=42),\n",
        "        'GNB': GaussianNB()\n",
        "    }\n",
        "\n",
        "    resultados = []\n",
        "\n",
        "    for nome, classificador in classificadores.items():\n",
        "        classificador.fit(X_train, y_train)\n",
        "        y_pred = classificador.predict(X_test)\n",
        "        acuracia = accuracy_score(y_test, y_pred)\n",
        "        f1Score = f1_score(y_test, y_pred, average='weighted')\n",
        "        resultados.append({'Modelo': nome,\n",
        "                           'Acurácia': (acuracia*100).round(2),\n",
        "                           'F1 Score': (f1Score*100).round(2)})\n",
        "\n",
        "    return pd.DataFrame(resultados)"
      ],
      "metadata": {
        "id": "DP8RgKg2B7Hz"
      },
      "execution_count": null,
      "outputs": []
    },
    {
      "cell_type": "code",
      "source": [
        "# Função para a matriz de confusão\n",
        "def plot_confusion_matrix(conf_matrix, labels):\n",
        "    fig = ff.create_annotated_heatmap(z=conf_matrix[::-1],\n",
        "                                      x=labels,\n",
        "                                      y=labels[::-1],\n",
        "                                      colorscale='blues')\n",
        "\n",
        "    fig.update_layout(title='Matriz de Confusão',\n",
        "                      xaxis=dict(title='Classe Prevista', side='bottom'),\n",
        "                      yaxis=dict(title='Classe Real'))\n",
        "\n",
        "    fig.show()"
      ],
      "metadata": {
        "id": "xQs8xiELCHeE"
      },
      "execution_count": null,
      "outputs": []
    },
    {
      "cell_type": "markdown",
      "source": [
        "# EDA"
      ],
      "metadata": {
        "id": "MB4molBEH7uw"
      }
    },
    {
      "cell_type": "code",
      "source": [
        "# Descritivas\n",
        "df.describe().T.round(2)"
      ],
      "metadata": {
        "id": "VDLZDnPCH8xh"
      },
      "execution_count": null,
      "outputs": []
    },
    {
      "cell_type": "code",
      "source": [
        "# Médias por gêneros\n",
        "pd.pivot_table(df, index='genero',\n",
        "               values=colunas_numericas,\n",
        "               aggfunc={'mean', 'std'}).round(2)"
      ],
      "metadata": {
        "id": "zlEyp6JrMohm"
      },
      "execution_count": null,
      "outputs": []
    },
    {
      "cell_type": "code",
      "source": [
        "# Correlações\n",
        "corr = df.corr(numeric_only=True)\n",
        "corr.style.background_gradient()"
      ],
      "metadata": {
        "id": "1h1htjjJIQ33"
      },
      "execution_count": null,
      "outputs": []
    },
    {
      "cell_type": "code",
      "source": [
        "# Valores Únicos categóricos\n",
        "for col in colunas_categoricas:\n",
        "    print(col, df[col].unique())"
      ],
      "metadata": {
        "id": "mLw7R3o4IcfG"
      },
      "execution_count": null,
      "outputs": []
    },
    {
      "cell_type": "code",
      "source": [
        "# Classe para gerar os gráficos\n",
        "class Graficos:\n",
        "    def __init__(self, df):\n",
        "        self.df = df\n",
        "\n",
        "    def histograma(self, col1):\n",
        "        fig = px.histogram(self.df,\n",
        "                           x=col1, marginal=\"box\",\n",
        "                           template='plotly_dark')\n",
        "        fig.show()\n",
        "\n",
        "    def boxplot_por_genero(self, col1, col_genero='genero'):\n",
        "        fig = px.box(self.df,\n",
        "                     x=col_genero, y=col1,\n",
        "                     color = col_genero,\n",
        "                     template='plotly_dark')\n",
        "\n",
        "        fig.update_layout(xaxis_title='Gênero', yaxis_title=col1)\n",
        "\n",
        "        fig.show()\n",
        "\n",
        "    def barras(self, col1):\n",
        "        # Contar ocorrências de valores na coluna\n",
        "        counts = self.df[col1].value_counts()\n",
        "\n",
        "        # Criar gráfico de barras\n",
        "        fig = px.bar(x=counts.index,\n",
        "                     y=counts.values,\n",
        "                     text_auto = True,\n",
        "                     template='plotly_dark')\n",
        "\n",
        "        fig.update_traces(textposition='outside')\n",
        "\n",
        "        fig.update_layout(xaxis_title=col1,\n",
        "                          yaxis_title='Contagem',\n",
        "                          )\n",
        "\n",
        "        fig.show()"
      ],
      "metadata": {
        "id": "rCOdvMBBIhgH"
      },
      "execution_count": null,
      "outputs": []
    },
    {
      "cell_type": "code",
      "source": [
        "# Criar o objeto\n",
        "graficos = Graficos(df)"
      ],
      "metadata": {
        "id": "fFmCMAIYIk1N"
      },
      "execution_count": null,
      "outputs": []
    },
    {
      "cell_type": "code",
      "source": [
        "# Histograma\n",
        "for col in colunas_numericas:\n",
        "    graficos.histograma(col)"
      ],
      "metadata": {
        "id": "EuxNzfwmInFt"
      },
      "execution_count": null,
      "outputs": []
    },
    {
      "cell_type": "code",
      "source": [
        "# Barras\n",
        "for col in colunas_categoricas:\n",
        "    graficos.barras(col)"
      ],
      "metadata": {
        "id": "0P10mMpTIsuW"
      },
      "execution_count": null,
      "outputs": []
    },
    {
      "cell_type": "code",
      "source": [
        "# Boxplot gêneros\n",
        "for col in colunas_numericas:\n",
        "    graficos.boxplot_por_genero(col)"
      ],
      "metadata": {
        "id": "LXmIGZIOKhKf"
      },
      "execution_count": null,
      "outputs": []
    },
    {
      "cell_type": "markdown",
      "source": [
        "# Pré-processamento"
      ],
      "metadata": {
        "id": "Tpcx005zMat_"
      }
    },
    {
      "cell_type": "code",
      "source": [
        "# Separar X e Y\n",
        "X = df.drop('genero', axis = 1)\n",
        "y = df['genero']"
      ],
      "metadata": {
        "id": "QZVxOYQNMcqO"
      },
      "execution_count": null,
      "outputs": []
    },
    {
      "cell_type": "code",
      "source": [
        "# Codificar alvo\n",
        "le = LabelEncoder()\n",
        "y = le.fit_transform(y)"
      ],
      "metadata": {
        "id": "21jAPW-RN7NI"
      },
      "execution_count": null,
      "outputs": []
    },
    {
      "cell_type": "code",
      "source": [
        "# Armazenar os valores da classe\n",
        "labels = list(le.classes_)"
      ],
      "metadata": {
        "id": "ysvw6E_JP7Lo"
      },
      "execution_count": null,
      "outputs": []
    },
    {
      "cell_type": "code",
      "source": [
        "# Definir colunas numéricas e categóricas\n",
        "numeric_features = colunas_numericas\n",
        "categorical_features = colunas_categoricas.drop('genero')"
      ],
      "metadata": {
        "id": "bmtQGQodN_wg"
      },
      "execution_count": null,
      "outputs": []
    },
    {
      "cell_type": "code",
      "source": [
        "# Pré-processamento das colunas categóricas\n",
        "categorical_transformer = OneHotEncoder(\n",
        "                      handle_unknown='ignore')"
      ],
      "metadata": {
        "id": "_qWu48_dOF7P"
      },
      "execution_count": null,
      "outputs": []
    },
    {
      "cell_type": "code",
      "source": [
        "# Pipeline para pré-processamento das features numéricas\n",
        "numeric_transformer = Pipeline(steps=[\n",
        "    ('scaler', StandardScaler())\n",
        "])"
      ],
      "metadata": {
        "id": "th9Zw2nrOGpn"
      },
      "execution_count": null,
      "outputs": []
    },
    {
      "cell_type": "code",
      "source": [
        "# Combinar os pré-processadores em um ColumnTransformer\n",
        "preprocessor = ColumnTransformer(\n",
        "    transformers=[\n",
        "        ('num', numeric_transformer, numeric_features),\n",
        "        ('cat', categorical_transformer, categorical_features)\n",
        "    ],  remainder='drop')"
      ],
      "metadata": {
        "id": "D9hNupdhOT8I"
      },
      "execution_count": null,
      "outputs": []
    },
    {
      "cell_type": "code",
      "source": [
        "# Dividir em treino e teste\n",
        "X_train, X_test, y_train, y_test = train_test_split(X,\n",
        "                                                    y, test_size=0.2,\n",
        "                                                    random_state=42,\n",
        "                                                    stratify=y\n",
        "                                                )"
      ],
      "metadata": {
        "id": "cpETsgR1OWa-"
      },
      "execution_count": null,
      "outputs": []
    },
    {
      "cell_type": "code",
      "source": [
        "# Aplicar o pré-processamento nos conjuntos de treino e teste\n",
        "X_train_processed = preprocessor.fit_transform(X_train)\n",
        "X_test_processed = preprocessor.transform(X_test)"
      ],
      "metadata": {
        "id": "hEAg1MifOXkm"
      },
      "execution_count": null,
      "outputs": []
    },
    {
      "cell_type": "code",
      "source": [
        "# Obter as colunas após o pré-processamento\n",
        "transformer_names = preprocessor.named_transformers_\n",
        "\n",
        "cat_columns = transformer_names['cat'].get_feature_names_out(\n",
        "    input_features=categorical_features)\n",
        "\n",
        "num_columns = numeric_features\n",
        "\n",
        "# Combinar as colunas numéricas e categóricas\n",
        "processed_columns = list(num_columns) + list(cat_columns)\n",
        "\n",
        "# Exibir as colunas\n",
        "print(\"Colunas após o pré-processamento:\")\n",
        "print(processed_columns)"
      ],
      "metadata": {
        "id": "EpdjzWKJd_9X"
      },
      "execution_count": null,
      "outputs": []
    },
    {
      "cell_type": "markdown",
      "source": [
        "# Classificação"
      ],
      "metadata": {
        "id": "yFCxSb4-OgcW"
      }
    },
    {
      "cell_type": "code",
      "source": [
        "# Treinar\n",
        "resultados_df = treinar_avaliar(X_train_processed,\n",
        "                             y_train,\n",
        "                             X_test_processed,\n",
        "                             y_test)\n",
        "\n",
        "resultados_df"
      ],
      "metadata": {
        "id": "LqHns0hetWpx"
      },
      "execution_count": null,
      "outputs": []
    },
    {
      "cell_type": "code",
      "source": [
        "# Criar gráfico de comparação com subplots e adicionar as barras\n",
        "fig = make_subplots(rows=2, cols=1,\n",
        "                    shared_xaxes=True,\n",
        "                    vertical_spacing=0.1,\n",
        "                    subplot_titles=(\"Acurácia\", \"F1-Score\"))\n",
        "\n",
        "# Adicionar as barras de acurácia e F1-Score\n",
        "fig.add_trace(go.Bar(x=resultados_df['Modelo'],\n",
        "                     y=resultados_df['Acurácia'],\n",
        "                     name='Acurácia',\n",
        "                     text=round(resultados_df['Acurácia'], 2),\n",
        "                     textposition='auto',\n",
        "                     insidetextanchor='start'),\n",
        "                     row=1, col=1)\n",
        "\n",
        "fig.add_trace(go.Bar(x=resultados_df['Modelo'],\n",
        "                     y=resultados_df['F1 Score'],\n",
        "                     name='F1 Score',\n",
        "                     text=round(resultados_df['F1 Score'], 2),\n",
        "                     textposition='auto',\n",
        "                     insidetextanchor='start'),\n",
        "                     row=2, col=1)\n",
        "\n",
        "# Atualizar layout\n",
        "fig.update_layout(template='plotly_dark',\n",
        "                  title='Comparação de Acurácia e F1-Score',\n",
        "                  yaxis=dict(title='Acurácia', tickformat=\".2f\"),\n",
        "                  yaxis2=dict(title='F1 Score', tickformat=\".2f\")\n",
        "                  )\n",
        "\n",
        "# Exibir o gráfico\n",
        "fig.show()"
      ],
      "metadata": {
        "id": "JxKDYOH4z8rD"
      },
      "execution_count": null,
      "outputs": []
    },
    {
      "cell_type": "markdown",
      "source": [
        "# Avaliação (Melhor Modelo)"
      ],
      "metadata": {
        "id": "yVGksrwtvzBT"
      }
    },
    {
      "cell_type": "code",
      "source": [
        "rf = RandomForestClassifier(random_state=42)\n",
        "rf.fit(X_train_processed, y_train)"
      ],
      "metadata": {
        "id": "DKl1WuCrOhn9"
      },
      "execution_count": null,
      "outputs": []
    },
    {
      "cell_type": "code",
      "source": [
        "# Acurácia\n",
        "rf_acc = accuracy_score(y_test, rf.predict(X_test_processed))\n",
        "\n",
        "print(f\"Acurácia (treino):\"\n",
        "      f\"{accuracy_score(y_train, rf.predict(X_train_processed))}\")\n",
        "\n",
        "print(f\"Acurácia (teste): {rf_acc:.2f}\")"
      ],
      "metadata": {
        "id": "IqUTsHl9OpIu"
      },
      "execution_count": null,
      "outputs": []
    },
    {
      "cell_type": "code",
      "source": [
        "# Matriz de confusão\n",
        "rf_matriz = confusion_matrix(y_test, rf.predict(X_test_processed))\n",
        "\n",
        "# Mostrar matriz\n",
        "plot_confusion_matrix(rf_matriz, labels)"
      ],
      "metadata": {
        "id": "4n_6ikL-OsS3"
      },
      "execution_count": null,
      "outputs": []
    },
    {
      "cell_type": "code",
      "source": [
        "# Relatório de classificação\n",
        "print(classification_report(y_test, rf.predict(X_test_processed),\n",
        "                            target_names=labels))"
      ],
      "metadata": {
        "id": "0qQla7uDXcBi"
      },
      "execution_count": null,
      "outputs": []
    }
  ]
}