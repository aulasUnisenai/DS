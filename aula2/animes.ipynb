{
  "nbformat": 4,
  "nbformat_minor": 0,
  "metadata": {
    "colab": {
      "provenance": [],
      "collapsed_sections": [
        "hJ9M_r6LbWrX"
      ]
    },
    "kernelspec": {
      "name": "python3",
      "display_name": "Python 3"
    },
    "language_info": {
      "name": "python"
    }
  },
  "cells": [
    {
      "cell_type": "markdown",
      "source": [
        "# Carregar os dados"
      ],
      "metadata": {
        "id": "hJ9M_r6LbWrX"
      }
    },
    {
      "cell_type": "code",
      "execution_count": null,
      "metadata": {
        "id": "QeZcBdxlZwYs"
      },
      "outputs": [],
      "source": [
        "# Bibliotecas\n",
        "import pandas as pd\n",
        "import plotly.express as px"
      ]
    },
    {
      "cell_type": "code",
      "source": [
        "# Carregar a base\n",
        "df= pd.read_csv('/content/anime.csv', encoding='utf-8')\n",
        "df.head(5)"
      ],
      "metadata": {
        "id": "Dhx2G82-Z4xx"
      },
      "execution_count": null,
      "outputs": []
    },
    {
      "cell_type": "code",
      "source": [
        "# Verificar informações\n",
        "df.info()"
      ],
      "metadata": {
        "id": "BElHcOyLawQV"
      },
      "execution_count": null,
      "outputs": []
    },
    {
      "cell_type": "code",
      "source": [
        "# Verificar dados ausentes\n",
        "df.isna().sum()"
      ],
      "metadata": {
        "id": "cLNeB62BaSHX"
      },
      "execution_count": null,
      "outputs": []
    },
    {
      "cell_type": "code",
      "source": [
        "# Verificar dados duplicados\n",
        "df.duplicated().sum()"
      ],
      "metadata": {
        "id": "vT9E8OTubLS-"
      },
      "execution_count": null,
      "outputs": []
    },
    {
      "cell_type": "markdown",
      "source": [
        "# Pré-processamento"
      ],
      "metadata": {
        "id": "TAv6dCegbajf"
      }
    },
    {
      "cell_type": "code",
      "source": [
        "# Remover dados ausentes\n",
        "df.dropna(inplace = True)\n",
        "\n",
        "# Verificar dados ausentes\n",
        "df.isna().sum()"
      ],
      "metadata": {
        "id": "6gAVZvTQbctw"
      },
      "execution_count": null,
      "outputs": []
    },
    {
      "cell_type": "code",
      "source": [
        "class AnimePreProcessamento:\n",
        "    # Construtor\n",
        "    def __init__(self, df):\n",
        "        self.df = df\n",
        "\n",
        "    # Método para renomear as colunas\n",
        "    def renomear_colunas_portugues(self):\n",
        "        mapeamento_colunas = {\n",
        "            'anime_id': 'ID',\n",
        "            'name': 'nome',\n",
        "            'genre': 'genero',\n",
        "            'type': 'tipo',\n",
        "            'episodes': 'episodios',\n",
        "            'rating': 'avaliacao',\n",
        "            'members': 'comunidade'\n",
        "        }\n",
        "\n",
        "        # Renomear as colunas\n",
        "        self.df = self.df.rename(columns=mapeamento_colunas)\n",
        "\n",
        "    # Método para contar os gêneros\n",
        "    def contar_generos(self, string_generos):\n",
        "        # Verificar se a string de gêneros não é nula\n",
        "        if pd.isnull(string_generos):\n",
        "            return 0\n",
        "\n",
        "        # Dividir a string em uma lista de gêneros\n",
        "        lista_generos = string_generos.split(', ')\n",
        "\n",
        "        # Retornar o número de gêneros\n",
        "        return len(lista_generos)\n",
        "\n",
        "    # Método para criar coluna para a quantidade de gêneros dos animes\n",
        "    def adicionar_coluna_numero_generos(self):\n",
        "        self.df['numero_generos'] = self.df['genero'].apply(self.contar_generos)"
      ],
      "metadata": {
        "id": "9s44-N6Hd4Sd"
      },
      "execution_count": null,
      "outputs": []
    },
    {
      "cell_type": "code",
      "source": [
        "# Instânciar o objeto\n",
        "anime_processor = AnimePreProcessamento(df)"
      ],
      "metadata": {
        "id": "ou-k08jmeiDc"
      },
      "execution_count": null,
      "outputs": []
    },
    {
      "cell_type": "code",
      "source": [
        "# Aplicar os métodos\n",
        "anime_processor.renomear_colunas_portugues()\n",
        "anime_processor.adicionar_coluna_numero_generos()"
      ],
      "metadata": {
        "id": "bwQG3oaTetYm"
      },
      "execution_count": null,
      "outputs": []
    },
    {
      "cell_type": "code",
      "source": [
        "# Atualizar o df\n",
        "df = anime_processor.df\n",
        "df.head(5)"
      ],
      "metadata": {
        "id": "Byz2AGshe0Pr"
      },
      "execution_count": null,
      "outputs": []
    },
    {
      "cell_type": "markdown",
      "source": [
        "# Análises Descritivas"
      ],
      "metadata": {
        "id": "SiCtEmEpfoNs"
      }
    },
    {
      "cell_type": "code",
      "source": [
        "# Remover ID\n",
        "df.drop('ID', inplace = True, axis = 1)"
      ],
      "metadata": {
        "id": "6FbnZEq7gkht"
      },
      "execution_count": null,
      "outputs": []
    },
    {
      "cell_type": "code",
      "source": [
        "# Transformar dados desconhecidos em NaN\n",
        "df['episodios'] = pd.to_numeric(df['episodios'], errors='coerce')"
      ],
      "metadata": {
        "id": "iwK39ya1hxVy"
      },
      "execution_count": null,
      "outputs": []
    },
    {
      "cell_type": "code",
      "source": [
        "# Estatísticas descritivas\n",
        "df.describe().round(2)"
      ],
      "metadata": {
        "id": "HqNx-QmBfp1D"
      },
      "execution_count": null,
      "outputs": []
    },
    {
      "cell_type": "code",
      "source": [
        "# Criar colunas numéricas\n",
        "colunas_numericas = ['episodios', 'avaliacao', 'comunidade', 'numero_generos']\n",
        "\n",
        "# Contar o total de gêneros\n",
        "total_generos = df['genero'].str.split(', ', expand=True).stack().nunique()\n",
        "\n",
        "# Criar nova coluna com o primeiro gênero\n",
        "df['primeiro_genero'] = df['genero'].str.split(',').str[0]"
      ],
      "metadata": {
        "id": "-H4yMoSxG5f1"
      },
      "execution_count": null,
      "outputs": []
    },
    {
      "cell_type": "code",
      "source": [
        "# Distribuição (histogramas)\n",
        "for col in colunas_numericas:\n",
        "   fig =  px.histogram(df, x= col,\n",
        "                            labels={'value': 'Valor'},\n",
        "                            title=f'Histograma {col}')\n",
        "\n",
        "   # Ajustes\n",
        "   fig.update_layout(paper_bgcolor='rgba(0,0,0,0)',\n",
        "                     plot_bgcolor='rgba(0,0,0,0)', title_x=0.5)\n",
        "\n",
        "   # Mostrar os histogramas\n",
        "   fig.show()"
      ],
      "metadata": {
        "id": "iAjdd9Ybu22P"
      },
      "execution_count": null,
      "outputs": []
    },
    {
      "cell_type": "code",
      "source": [
        "# Distribuição dos Gêneros\n",
        "fig = px.bar(df['genero'].str.split(', ', expand=True).stack().value_counts(),\n",
        "             x=df['genero'].str.split(', ', expand=True).stack().value_counts().index,\n",
        "             y=df['genero'].str.split(', ', expand=True).stack().value_counts().values,\n",
        "             text_auto = True,\n",
        "             labels={'x':'Gênero', 'y':'Número de Animes'},\n",
        "             title=f'Distribuição de Gêneros de Animes ({total_generos} Gêneros)')\n",
        "\n",
        "# Ajustes\n",
        "fig.update_layout(paper_bgcolor='rgba(0,0,0,0)',\n",
        "                  plot_bgcolor='rgba(0,0,0,0)', title_x=0.5)\n",
        "fig.update_traces(textposition=\"outside\")\n",
        "\n",
        "# Mostrar o gráfico\n",
        "fig.show()"
      ],
      "metadata": {
        "id": "t-HZQEYAh8r7"
      },
      "execution_count": null,
      "outputs": []
    },
    {
      "cell_type": "code",
      "source": [
        "# Distribuição dos Tipos\n",
        "fig = px.bar(df['tipo'].value_counts(),\n",
        "             x=df['tipo'].value_counts().index,\n",
        "             y=df['tipo'].value_counts().values,\n",
        "             color=df['tipo'].value_counts().index,\n",
        "             text_auto = True,\n",
        "             labels={'x':'Tipo', 'y':'Número de Animes'},\n",
        "             title='Distribuição de Tipos de Animes')\n",
        "\n",
        "# Ajustes\n",
        "fig.update_layout(paper_bgcolor='rgba(0,0,0,0)',\n",
        "                  plot_bgcolor='rgba(0,0,0,0)', title_x=0.5)\n",
        "fig.update_traces(showlegend=False, textposition=\"outside\")\n",
        "\n",
        "# Mostrar o gráfico\n",
        "fig.show()"
      ],
      "metadata": {
        "id": "EkHk15cvk-Qr"
      },
      "execution_count": null,
      "outputs": []
    },
    {
      "cell_type": "markdown",
      "source": [
        "# Análise Bivariadas"
      ],
      "metadata": {
        "id": "QKl5ouoeuqCh"
      }
    },
    {
      "cell_type": "code",
      "source": [
        "# Criar uma tabela dinâmica usando pivot_table com média e desvio padrão\n",
        "tabela_dinamica = pd.pivot_table(df, values=colunas_numericas,\n",
        "                                  index='tipo', aggfunc={'episodios': ['mean', 'std'],\n",
        "                                                        'avaliacao': ['mean', 'std'],\n",
        "                                                        'comunidade': ['mean', 'std'],\n",
        "                                                        'numero_generos': ['mean', 'std']})\n",
        "\n",
        "# Arredondar os valores para duas casas decimais\n",
        "tabela_dinamica = tabela_dinamica.round(2)\n",
        "tabela_dinamica"
      ],
      "metadata": {
        "id": "nv_aWvkW1XbE"
      },
      "execution_count": null,
      "outputs": []
    },
    {
      "cell_type": "code",
      "source": [
        "# Criar um dicionário para armazenar as principais entradas para cada coluna\n",
        "top_entries = {col: [f'{genero} ({df.loc[df[\"primeiro_genero\"] == genero, col].mean():.2f})'\n",
        "                     for genero in df.groupby('primeiro_genero')[col].mean().nlargest(5).index]\n",
        "                     for col in colunas_numericas}\n",
        "\n",
        "# Criar uma tabela mostrando os cinco principais gêneros e suas médias para cada coluna numérica\n",
        "tabela_top_generos = pd.DataFrame(top_entries)\n",
        "\n",
        "# Exibir a tabela\n",
        "tabela_top_generos"
      ],
      "metadata": {
        "id": "qBQTtcahIJy1"
      },
      "execution_count": null,
      "outputs": []
    },
    {
      "cell_type": "code",
      "source": [
        "# Criar um dicionário para armazenar os top cinco animes para cada coluna\n",
        "top_animes = {col: df.loc[df[col].nlargest(5).index,\n",
        "              ['nome', col]].apply(lambda x: f\"{x['nome']} ({x[col]:.2f})\", axis=1).tolist()\n",
        "              for col in colunas_numericas}\n",
        "\n",
        "# Criar uma tabela mostrando os top cinco animes para cada coluna numérica\n",
        "tabela_top_animes = pd.DataFrame(top_animes)\n",
        "\n",
        "# Exibir a tabela\n",
        "tabela_top_animes"
      ],
      "metadata": {
        "id": "J1ds4GP8JiD0"
      },
      "execution_count": null,
      "outputs": []
    },
    {
      "cell_type": "code",
      "source": [
        "# Variáveis numéricas\n",
        "df.corr(numeric_only= True, method= 'spearman')"
      ],
      "metadata": {
        "id": "T_hQ9nrNA-YX"
      },
      "execution_count": null,
      "outputs": []
    }
  ]
}